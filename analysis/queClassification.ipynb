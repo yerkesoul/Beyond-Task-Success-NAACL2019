{
 "cells": [
  {
   "cell_type": "code",
   "execution_count": 1,
   "metadata": {},
   "outputs": [],
   "source": [
    "import json\n",
    "from nltk.tokenize import TweetTokenizer\n",
    "import copy\n"
   ]
  },
  {
   "cell_type": "code",
   "execution_count": 2,
   "metadata": {},
   "outputs": [],
   "source": [
    "from qclassify import qclass\n",
    "classifier = qclass()\n"
   ]
  },
  {
   "cell_type": "code",
   "execution_count": 3,
   "metadata": {},
   "outputs": [],
   "source": [
    "def split_que_ans(game,human=False):\n",
    "    new_game = copy.deepcopy(game)\n",
    "    for key in game:\n",
    "        new_game[key] = copy.deepcopy(game[key])\n",
    "        if human:\n",
    "            gen_dialogue = [game[key]['true_dialogue']]\n",
    "            gen_dialogue[0] = gen_dialogue[0].replace('Yes','<Yes>')\n",
    "            gen_dialogue[0] = gen_dialogue[0].replace('yes','<yes>')\n",
    "            gen_dialogue[0] = gen_dialogue[0].replace('No','<No>')\n",
    "            gen_dialogue[0] = gen_dialogue[0].replace('no','<no>')\n",
    "            gen_dialogue[0] = gen_dialogue[0].replace('NA','<NA>')\n",
    "            gen_dialogue[0] = gen_dialogue[0].replace('na','<na>')\n",
    "            new_game[key]['gen_dialogue'] = copy.deepcopy(game[key]['true_dialogue'])\n",
    "        else:\n",
    "            gen_dialogue = [game[key]['gen_dialogue']] \n",
    "        gen_dialogue[0] = gen_dialogue[0].replace('<start>','')\n",
    "        \n",
    "        # replace < and > in unk token so we can split on that one next\n",
    "        gen_dialogue[0] = gen_dialogue[0].replace('<unk>', '_unk_')\n",
    "        \n",
    "        tmp_gen_dialogue = [dial.split('>') for dial in gen_dialogue]\n",
    "        \n",
    "        new_game[key]['que'] = []\n",
    "        new_game[key]['ans'] = []\n",
    "        for dialogue in tmp_gen_dialogue[0]:\n",
    "            dialogue = dialogue.replace('<','')\n",
    "            if dialogue:\n",
    "                try:\n",
    "                    que,ans = dialogue.split('?')\n",
    "                    que = que + ' ?'\n",
    "                    new_game[key]['que'].append(que)\n",
    "                    new_game[key]['ans'].append(ans.lower().strip())\n",
    "                except:\n",
    "                    nothing = 1\n",
    "    print('Spliting is done')                \n",
    "    return(new_game)"
   ]
  },
  {
   "cell_type": "code",
   "execution_count": 4,
   "metadata": {},
   "outputs": [],
   "source": [
    "def question_type_shift_yes_answer(game,cond='all'):\n",
    "    # category : 'super-category', 'object'\n",
    "    # cond: 'all' for all game, 'success' for successful game and 'un-success' for un-successful game\n",
    "\n",
    "    out = {}\n",
    "    for category in ['<super-category>', '<object>']:\n",
    "        all_categories = ['<super-category>', '<object>', '<attribute>']\n",
    "        count = 0\n",
    "        cond_count = 0\n",
    "        e_count =0\n",
    "\n",
    "        if category == '<super-category>':\n",
    "            non_category = ['<object>', '<attribute>']\n",
    "        elif category == '<object>':\n",
    "            non_category = ['<attribute>']\n",
    "        else:\n",
    "            print('check category')\n",
    "\n",
    "        l = 0\n",
    "        for key in game:\n",
    "            l+=1\n",
    "            if cond == 'success':\n",
    "                if game[key]['target_id'] != game[key]['guess_id']:\n",
    "                    continue\n",
    "            elif cond == 'un-success': \n",
    "                if game[key]['target_id'] == game[key]['guess_id']:\n",
    "                    continue\n",
    "\n",
    "            q_ann = game[key]['q_ann_at']   \n",
    "\n",
    "            ans = game[key]['ans']\n",
    "            indices = [i for i, x in enumerate(q_ann) if x == category]\n",
    "            for i_idx in range(0,len(indices)):\n",
    "                if i_idx != len(indices):\n",
    "                    try:\n",
    "                        next_q_ann = q_ann[indices[i_idx]+1]\n",
    "                    except:\n",
    "                        e_count +=1\n",
    "                        continue\n",
    "                    curr_q_ans = ans[indices[i_idx]].lower()\n",
    "\n",
    "                    if curr_q_ans == 'yes':\n",
    "                        count +=1\n",
    "                        if next_q_ann in non_category:\n",
    "                            cond_count += 1\n",
    "\n",
    "    #     print(cond_count*100/count,count,cond_count,e_count,cond_count*100/(count+e_count))\n",
    "        \n",
    "        out[category] = cond_count*100/count \n",
    "    return out"
   ]
  },
  {
   "cell_type": "code",
   "execution_count": 5,
   "metadata": {},
   "outputs": [],
   "source": [
    "def get_que_type_multi(game,q_max_miss=0,file_name='dummy.json'):\n",
    "    \n",
    "    # Classification of game\n",
    "    \n",
    "    # ATTRIBUTES:\n",
    "        # - color\n",
    "        # - shape\n",
    "        # - size\n",
    "        # - texture\n",
    "        # - action\n",
    "        # - spatial/location\n",
    "       \n",
    "    # ENTITY\n",
    "        # - super-category\n",
    "        # - object\n",
    "\n",
    "    tknzr = TweetTokenizer(preserve_case=False)\n",
    "    q_count = 0\n",
    "    \n",
    "    d_count =0\n",
    "    number_count = 0\n",
    "    color_count = 0\n",
    "    shape_count = 0\n",
    "    size_count = 0\n",
    "    texture_count = 0\n",
    "    action_count = 0\n",
    "    spatial_count = 0\n",
    "    object_count = 0\n",
    "    super_count = 0\n",
    "    \n",
    "    att_count = 0\n",
    "    \n",
    "    new_game = copy.deepcopy(game)\n",
    "    \n",
    "    for key in game:\n",
    "        new_game[key]['q_ann'] = [] #To store categoty\n",
    "        new_game[key]['q_ann_at'] = [] #To store broad categoty\n",
    "        \n",
    "        d_count +=1\n",
    "        d_flag = True\n",
    "        d_flag_count = 0\n",
    "        questions = game[key]['que']\n",
    "        game[key]['gen_dialogue'] = game[key]['gen_dialogue'].replace('?', ' ?')\n",
    "        dial =  [n for x, n in enumerate(game[key]['gen_dialogue'].split())]\n",
    "    \n",
    "        for que_idx, que in enumerate(questions):\n",
    "            q_count +=1\n",
    "            cat = '<NA>'\n",
    "            que = que.lower()\n",
    "            cat = classifier.que_classify_multi(que)\n",
    "            \n",
    "            att_flag = False\n",
    "            \n",
    "            if '<color>' in cat:\n",
    "                color_count +=1\n",
    "                att_flag = True\n",
    "                \n",
    "            if '<shape>' in cat:\n",
    "                shape_count +=1\n",
    "                att_flag = True\n",
    "            if '<size>' in cat:\n",
    "                size_count +=1\n",
    "                att_flag = True\n",
    "            if '<texture>' in cat:\n",
    "                texture_count +=1\n",
    "                att_flag = True\n",
    "            if '<action>' in cat:\n",
    "                action_count +=1\n",
    "                att_flag = True\n",
    "            if '<spatial>' in cat:\n",
    "                spatial_count +=1\n",
    "                att_flag = True\n",
    "            if att_flag:\n",
    "                att_count +=1\n",
    "                \n",
    "            if '<object>' in cat:\n",
    "                object_count +=1\n",
    "            if '<super-category>' in cat:\n",
    "                super_count +=1\n",
    "                \n",
    "            new_game[key]['q_ann'].append(cat)\n",
    "            if cat == '<NA>' or cat == '<object>' or cat == '<super-category>':\n",
    "                new_game[key]['q_ann_at'].append(cat)\n",
    "            else:\n",
    "                new_game[key]['q_ann_at'].append(\"<attribute>\")\n",
    "#             break\n",
    "            \n",
    "    \n",
    "    ent_count = object_count + super_count\n",
    "    \n",
    "    ent_per = ent_count * 100 / q_count\n",
    "    object_per = object_count * 100 / q_count\n",
    "    super_per = super_count * 100 / q_count\n",
    "    \n",
    "    att_per = att_count * 100 / q_count\n",
    "    color_per = color_count * 100 / q_count\n",
    "    shape_per = shape_count * 100 / q_count\n",
    "    size_per = size_count * 100 / q_count\n",
    "    texture_per = texture_count * 100 / q_count\n",
    "    spatial_per = spatial_count * 100 / q_count\n",
    "    action_per = action_count * 100 / q_count\n",
    "    rest_per = 100 - (att_per+ent_per) \n",
    "    \n",
    "#     print('Entity : ', ent_per)\n",
    "#     print('Super : ', super_per)\n",
    "#     print('Object : ', object_per)\n",
    "#     print('Attribute : ', att_per)\n",
    "#     print('Color : ', color_per)\n",
    "#     print('Shape : ', shape_per)\n",
    "#     print('Size : ', size_per)\n",
    "#     print('Texture : ', texture_per)\n",
    "#     print('Location : ', spatial_per)\n",
    "#     print('Action : ', action_per)\n",
    "#     print('NA : ', rest_per)\n",
    "    \n",
    "    out = {}\n",
    "    out['Entity']= ent_per\n",
    "    out['Super ']=  super_per\n",
    "    out['Object']= object_per\n",
    "    out['Attribute']= att_per\n",
    "    out['Color']= color_per\n",
    "    out['Shape']= shape_per\n",
    "    out['Size']= size_per\n",
    "    out['Texture']= texture_per\n",
    "    out['Location']= spatial_per\n",
    "    out['Action']= action_per\n",
    "    out['NA']= rest_per\n",
    "    print(out)\n",
    "    return out, new_game"
   ]
  },
  {
   "cell_type": "code",
   "execution_count": 6,
   "metadata": {},
   "outputs": [],
   "source": [
    "file_name = '../../data/dummy.json'"
   ]
  },
  {
   "cell_type": "code",
   "execution_count": 7,
   "metadata": {},
   "outputs": [],
   "source": [
    "with open(file_name) as file:\n",
    "    game = json.load(file)"
   ]
  },
  {
   "cell_type": "code",
   "execution_count": 8,
   "metadata": {},
   "outputs": [
    {
     "name": "stdout",
     "output_type": "stream",
     "text": [
      "Spliting is done\n"
     ]
    }
   ],
   "source": [
    "game = split_que_ans(game)"
   ]
  },
  {
   "cell_type": "code",
   "execution_count": 9,
   "metadata": {},
   "outputs": [
    {
     "name": "stdout",
     "output_type": "stream",
     "text": [
      "{'Entity': 28.533528420008157, 'Super ': 9.336831439226717, 'Object': 19.19669698078144, 'Attribute': 70.13071648104001, 'Color': 17.733126474186754, 'Shape': 0.02690850687218039, 'Size': 0.7139163229525359, 'Texture': 0.08535042023519716, 'Location': 66.77177802163612, 'Action': 3.1524997582438834, 'NA': 1.3357550989518359}\n"
     ]
    }
   ],
   "source": [
    "#TABLE 3 in the NAACL Paper\n",
    "stat, new_game = get_que_type_multi(game)"
   ]
  },
  {
   "cell_type": "code",
   "execution_count": 10,
   "metadata": {},
   "outputs": [
    {
     "name": "stdout",
     "output_type": "stream",
     "text": [
      "{'<super-category>': 98.38142902779256, '<object>': 95.98132552178689}\n"
     ]
    }
   ],
   "source": [
    "#TABLE 4 in the NAACL Paper\n",
    "shift_cat = question_type_shift_yes_answer(new_game)\n",
    "print(shift_cat)\n"
   ]
  },
  {
   "cell_type": "code",
   "execution_count": null,
   "metadata": {
    "collapsed": true
   },
   "outputs": [],
   "source": []
  }
 ],
 "metadata": {
  "kernelspec": {
   "display_name": "Python 3",
   "language": "python",
   "name": "python3"
  },
  "language_info": {
   "codemirror_mode": {
    "name": "ipython",
    "version": 3
   },
   "file_extension": ".py",
   "mimetype": "text/x-python",
   "name": "python",
   "nbconvert_exporter": "python",
   "pygments_lexer": "ipython3",
   "version": "3.6.8"
  }
 },
 "nbformat": 4,
 "nbformat_minor": 2
}
