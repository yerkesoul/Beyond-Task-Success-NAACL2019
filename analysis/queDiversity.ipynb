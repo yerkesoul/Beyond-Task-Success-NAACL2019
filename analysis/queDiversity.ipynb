{
 "cells": [
  {
   "cell_type": "code",
   "execution_count": 1,
   "metadata": {},
   "outputs": [],
   "source": [
    "import json\n",
    "import copy\n",
    "from nltk.tokenize import TweetTokenizer\n"
   ]
  },
  {
   "cell_type": "code",
   "execution_count": 2,
   "metadata": {},
   "outputs": [],
   "source": [
    "def split_que_ans(game,human=False):\n",
    "    new_game = copy.deepcopy(game)\n",
    "    for key in game:\n",
    "        new_game[key] = copy.deepcopy(game[key])\n",
    "        if human:\n",
    "            gen_dialogue = [game[key]['true_dialogue']]\n",
    "            gen_dialogue[0] = gen_dialogue[0].replace('Yes','<Yes>')\n",
    "            gen_dialogue[0] = gen_dialogue[0].replace('yes','<yes>')\n",
    "            gen_dialogue[0] = gen_dialogue[0].replace('No','<No>')\n",
    "            gen_dialogue[0] = gen_dialogue[0].replace('no','<no>')\n",
    "            gen_dialogue[0] = gen_dialogue[0].replace('NA','<NA>')\n",
    "            gen_dialogue[0] = gen_dialogue[0].replace('na','<na>')\n",
    "            new_game[key]['gen_dialogue'] = copy.deepcopy(game[key]['true_dialogue'])\n",
    "        else:\n",
    "            gen_dialogue = [game[key]['gen_dialogue']] \n",
    "        gen_dialogue[0] = gen_dialogue[0].replace('<start>','')\n",
    "        \n",
    "        # replace < and > in unk token so we can split on that one next\n",
    "        gen_dialogue[0] = gen_dialogue[0].replace('<unk>', '_unk_')\n",
    "        \n",
    "        tmp_gen_dialogue = [dial.split('>') for dial in gen_dialogue]\n",
    "        \n",
    "        new_game[key]['que'] = []\n",
    "        new_game[key]['ans'] = []\n",
    "        for dialogue in tmp_gen_dialogue[0]:\n",
    "            dialogue = dialogue.replace('<','')\n",
    "            if dialogue:\n",
    "                try:\n",
    "                    que,ans = dialogue.split('?')\n",
    "                    que = que + ' ?'\n",
    "                    new_game[key]['que'].append(que)\n",
    "                    new_game[key]['ans'].append(ans.lower().strip())\n",
    "                except:\n",
    "                    nothing = 1\n",
    "    print('Spliting is done')                \n",
    "    return(new_game)"
   ]
  },
  {
   "cell_type": "code",
   "execution_count": 3,
   "metadata": {},
   "outputs": [],
   "source": [
    "def lexicalDiversity(game,maxQ=-1):\n",
    "    # LexicalDiversity as type token ratio https://www.sltinfo.com/type-token-ratio/\n",
    "    # maxQ in case we want to analysis on part of the dialogue i.e. 5Q, 6Q only\n",
    "    tknzr = TweetTokenizer(preserve_case=False)\n",
    "    ttr = 0\n",
    "    q_tokens = list()\n",
    "    all_que = []\n",
    "    for key in game:\n",
    "        ques = game[key]['que']\n",
    "        anss = game[key]['ans']\n",
    "\n",
    "        q_count = 0\n",
    "\n",
    "        for que, ans in zip(ques, anss):\n",
    "\n",
    "            if maxQ > 0 and q_count >=maxQ:\n",
    "                break\n",
    "            q_tokens.extend(tknzr.tokenize(que))\n",
    "\n",
    "            q_count +=1\n",
    "    ttr = len(set(q_tokens)) * 100 / len(q_tokens)\n",
    "\n",
    "    # avg_ttr = ttr / len(game)\n",
    "    # print(ttr, len(q_tokens),len(set(q_tokens)), len(all_que))\n",
    "    return ttr\n"
   ]
  },
  {
   "cell_type": "code",
   "execution_count": 4,
   "metadata": {},
   "outputs": [],
   "source": [
    "def questionDiversity(game,maxQ=-1, human=False):\n",
    "    # Question Diversity and % of Game with repeated questions\n",
    "    # maxQ in case we want to analysis on part of the dialogue i.e. 5Q, 6Q only\n",
    "    all_que = []\n",
    "\n",
    "    game_rep = 0\n",
    "    \n",
    "    #Default word in the Vocabulary\n",
    "    vocab = ['<padding>',\n",
    "              '<start>',\n",
    "              '<stop>',\n",
    "              '<stop_dialogue>',\n",
    "              '<unk>',\n",
    "              '<yes>' ,\n",
    "              '<no>',\n",
    "              '<n/a>',\n",
    "            ]\n",
    "\n",
    "    if human:\n",
    "        word2i = {'<padding>': 0,\n",
    "                  '<start>': 1,\n",
    "                  '<stop>': 2,\n",
    "                  '<stop_dialogue>': 3,\n",
    "                  '<unk>': 4,\n",
    "                  '<yes>': 5,\n",
    "                  '<no>': 6,\n",
    "                  '<n/a>': 7,\n",
    "                  }\n",
    "\n",
    "\n",
    "        min_occ = 1\n",
    "        word2occ = collections.OrderedDict()\n",
    "        tknzr = TweetTokenizer(preserve_case=False)\n",
    "\n",
    "        for key in game:\n",
    "            questions = game[key]['que']\n",
    "            q_count = 0\n",
    "            for que_idx, que in enumerate(questions):\n",
    "                if maxQ > 0 and q_count >= maxQ:\n",
    "                    continue\n",
    "\n",
    "                tokens = tknzr.tokenize(que)\n",
    "                for tok in tokens:\n",
    "                    if tok not in word2occ:\n",
    "                        word2occ[tok] = 1\n",
    "                    else:\n",
    "                        word2occ[tok] += 1\n",
    "        for word, occ in word2occ.items():\n",
    "            if occ >= min_occ and word.count('.') <= 1:\n",
    "                word2i[word] = len(word2i)\n",
    "        print(len(word2i))\n",
    "\n",
    "    all_q_count = 0\n",
    "    for key in game:\n",
    "        questions = game[key]['que']\n",
    "\n",
    "        game_rep_flag = False\n",
    "        game_que = []\n",
    "\n",
    "        q_count = 0\n",
    "        for que_idx, que in enumerate(questions):\n",
    "\n",
    "            if maxQ > 0 and q_count >=maxQ:\n",
    "                continue\n",
    "\n",
    "            words = que.split()\n",
    "\n",
    "\n",
    "            for word in words:\n",
    "                if word not in vocab:\n",
    "                    vocab.append(word)\n",
    "\n",
    "            if que not in all_que:\n",
    "                all_que.append(que)\n",
    "            if que in game_que:\n",
    "                game_rep_flag = True\n",
    "            \n",
    "            game_que.append(que)\n",
    "            \n",
    "            q_count += 1\n",
    "            all_q_count +=1\n",
    "        if game_rep_flag:\n",
    "            game_rep += 1\n",
    "        \n",
    "\n",
    "    # print(len(vocab))\n",
    "    num_unique_que = len(all_que)\n",
    "    per_rep_game = game_rep * 100 / len(game)\n",
    "    len_vocab = len(vocab)\n",
    "\n",
    "    out = {}\n",
    "    out['num_que'] = all_q_count\n",
    "    out['num_unique_que'] = num_unique_que\n",
    "    out['que_divesity'] = num_unique_que*100/all_q_count\n",
    "    out['%_rep_game'] = per_rep_game\n",
    "    out['len_vocab'] = len_vocab\n",
    "\n",
    "    print('all_que_count =',all_q_count )\n",
    "    return out"
   ]
  },
  {
   "cell_type": "code",
   "execution_count": 5,
   "metadata": {},
   "outputs": [],
   "source": [
    "file_name = '../data/dummy.json'"
   ]
  },
  {
   "cell_type": "code",
   "execution_count": 6,
   "metadata": {},
   "outputs": [],
   "source": [
    "with open(file_name) as file:\n",
    "    game = json.load(file)"
   ]
  },
  {
   "cell_type": "code",
   "execution_count": 7,
   "metadata": {},
   "outputs": [
    {
     "name": "stdout",
     "output_type": "stream",
     "text": [
      "Spliting is done\n"
     ]
    }
   ],
   "source": [
    "game = split_que_ans(game)"
   ]
  },
  {
   "cell_type": "code",
   "execution_count": null,
   "metadata": {},
   "outputs": [],
   "source": [
    "#TABLE 2 in the NAACL Paper\n",
    "lexDiv = lexicalDiversity(game)\n",
    "queDiv = questionDiversity(game)\n",
    "\n",
    "out = {}\n",
    "out['LexicalDiversity'] = lexDiv\n",
    "out['QuestionDiversity'] = queDiv['que_divesity']\n",
    "out['% Game with repeated Q\\'s'] = queDiv['%_rep_game']"
   ]
  },
  {
   "cell_type": "code",
   "execution_count": 19,
   "metadata": {},
   "outputs": [
    {
     "data": {
      "text/plain": [
       "{'LexicalDiversity': 0.07080805140720507,\n",
       " 'QuestionDiversity': 14.846348221305652,\n",
       " '% Game with repeated Q': 59.97056968677738}"
      ]
     },
     "execution_count": 19,
     "metadata": {},
     "output_type": "execute_result"
    }
   ],
   "source": [
    "out"
   ]
  },
  {
   "cell_type": "code",
   "execution_count": null,
   "metadata": {},
   "outputs": [],
   "source": []
  }
 ],
 "metadata": {
  "kernelspec": {
   "display_name": "Python 3",
   "language": "python",
   "name": "python3"
  },
  "language_info": {
   "codemirror_mode": {
    "name": "ipython",
    "version": 3
   },
   "file_extension": ".py",
   "mimetype": "text/x-python",
   "name": "python",
   "nbconvert_exporter": "python",
   "pygments_lexer": "ipython3",
   "version": "3.6.8"
  }
 },
 "nbformat": 4,
 "nbformat_minor": 2
}
